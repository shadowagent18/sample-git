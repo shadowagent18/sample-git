{
 "cells": [
  {
   "cell_type": "markdown",
   "metadata": {},
   "source": [
    "## inserting an  image using markdown\n",
    "![image](https://cdn.pixabay.com/photo/2016/11/29/04/19/beach-1867285__340.jpg)\n",
    "![santu](https://i.gifer.com/7E2d.gif)"
   ]
  },
  {
   "cell_type": "markdown",
   "metadata": {},
   "source": [
    "### Inserting a site uasing markdown\n",
    "[youtube](https://www.youtube.com/)"
   ]
  },
  {
   "cell_type": "markdown",
   "metadata": {},
   "source": [
    "# Fundamental Data Types"
   ]
  },
  {
   "cell_type": "markdown",
   "metadata": {},
   "source": [
    "# 1.int\n",
    "# 2.float\n",
    "# 3.complex\n",
    "# 4.boolean\n",
    "# 5.string"
   ]
  },
  {
   "cell_type": "code",
   "execution_count": 4,
   "metadata": {},
   "outputs": [
    {
     "name": "stdout",
     "output_type": "stream",
     "text": [
      "<class 'int'>\n",
      "10\n"
     ]
    }
   ],
   "source": [
    "#basic example\n",
    "\n",
    "\n",
    "x=10\n",
    "print(type(x))\n",
    "print(x)"
   ]
  },
  {
   "cell_type": "code",
   "execution_count": 7,
   "metadata": {},
   "outputs": [
    {
     "name": "stdout",
     "output_type": "stream",
     "text": [
      "(6+3j)\n"
     ]
    }
   ],
   "source": [
    "a=complex(6,3)\n",
    "print(a)"
   ]
  },
  {
   "cell_type": "code",
   "execution_count": 9,
   "metadata": {},
   "outputs": [
    {
     "name": "stdout",
     "output_type": "stream",
     "text": [
      "(4+13j)\n",
      "(-2-1j)\n",
      "(-39+25j)\n"
     ]
    }
   ],
   "source": [
    "c1=1+6j\n",
    "c2=3+7j\n",
    "print(c1+c2)\n",
    "print(c1-c2)\n",
    "print(c1*c2)"
   ]
  },
  {
   "cell_type": "code",
   "execution_count": 10,
   "metadata": {},
   "outputs": [
    {
     "name": "stdout",
     "output_type": "stream",
     "text": [
      "True\n"
     ]
    }
   ],
   "source": [
    "#boolean\n",
    "a=10\n",
    "b=5\n",
    "print(a>b)"
   ]
  },
  {
   "cell_type": "code",
   "execution_count": 11,
   "metadata": {},
   "outputs": [
    {
     "name": "stdout",
     "output_type": "stream",
     "text": [
      "<class 'str'>\n",
      "malikkkk\n"
     ]
    }
   ],
   "source": [
    "#string\n",
    "x=\"malikkkk\"\n",
    "print(type(x))\n",
    "print(x)"
   ]
  },
  {
   "cell_type": "code",
   "execution_count": 15,
   "metadata": {},
   "outputs": [
    {
     "name": "stdout",
     "output_type": "stream",
     "text": [
      "<class 'int'>\n",
      "<class 'str'>\n",
      "<class 'float'>\n"
     ]
    }
   ],
   "source": [
    "#datatype conversions\n",
    "i=100\n",
    "print(type(i))\n",
    "sr=str(i)\n",
    "print(type(sr))\n",
    "ft=float(i)\n",
    "print(type(ft))"
   ]
  },
  {
   "cell_type": "code",
   "execution_count": 16,
   "metadata": {},
   "outputs": [
    {
     "name": "stdout",
     "output_type": "stream",
     "text": [
      "<class 'str'>\n",
      "<class 'int'>\n",
      "<class 'float'>\n"
     ]
    }
   ],
   "source": [
    "l=\"100\"\n",
    "print(type(l))\n",
    "slr=int(i)\n",
    "print(type(slr))\n",
    "sdt=float(i)\n",
    "print(type(sdt))"
   ]
  },
  {
   "cell_type": "code",
   "execution_count": 17,
   "metadata": {},
   "outputs": [
    {
     "name": "stdout",
     "output_type": "stream",
     "text": [
      "<class 'float'>\n",
      "5\n",
      "<class 'int'>\n"
     ]
    }
   ],
   "source": [
    "a=5.4\n",
    "print(type(a))\n",
    "b=int(a)\n",
    "print(b)\n",
    "print(type(b))\n"
   ]
  },
  {
   "cell_type": "code",
   "execution_count": 20,
   "metadata": {},
   "outputs": [
    {
     "name": "stdout",
     "output_type": "stream",
     "text": [
      "93\n"
     ]
    }
   ],
   "source": [
    "#length\n",
    "a= 235647569843847268685784547687263756324987598275873626589437895896298576824798269875826395869\n",
    "print(len(str(a)))"
   ]
  },
  {
   "cell_type": "markdown",
   "metadata": {},
   "source": [
    "# Operators\n",
    "## 1.Arithmetic operators \n",
    "## 2.Logical operators ---- and,or,not\n",
    "## 3.Relational operators\n",
    "## 4.Membership operators --- in,not in"
   ]
  },
  {
   "cell_type": "code",
   "execution_count": 24,
   "metadata": {},
   "outputs": [
    {
     "name": "stdout",
     "output_type": "stream",
     "text": [
      "10\n",
      "2.0\n",
      "200\n",
      "400\n"
     ]
    }
   ],
   "source": [
    "#arithmetic operators\n",
    "a=20\n",
    "b=10\n",
    "print(a//c)#floor division\n",
    "print(a/b)\n",
    "print(a*b)\n",
    "c=2\n",
    "print(a**c)"
   ]
  },
  {
   "cell_type": "code",
   "execution_count": 25,
   "metadata": {},
   "outputs": [
    {
     "name": "stdout",
     "output_type": "stream",
     "text": [
      "True\n",
      "True\n",
      "False\n"
     ]
    }
   ],
   "source": [
    "#relational operators\n",
    "c=20\n",
    "d=90\n",
    "print(c!=d)\n",
    "print(c<=d)\n",
    "print(c==d)\n"
   ]
  },
  {
   "cell_type": "code",
   "execution_count": 27,
   "metadata": {},
   "outputs": [
    {
     "name": "stdout",
     "output_type": "stream",
     "text": [
      "False\n",
      "True\n",
      "False\n"
     ]
    }
   ],
   "source": [
    "#logical operators\n",
    "print(c<=10 and d>=30)\n",
    "print(c<=10 or d>=40)\n",
    "print(not c)"
   ]
  },
  {
   "cell_type": "code",
   "execution_count": 30,
   "metadata": {},
   "outputs": [
    {
     "name": "stdout",
     "output_type": "stream",
     "text": [
      "False\n",
      "True\n"
     ]
    }
   ],
   "source": [
    "#membership operators\n",
    "srl=\"abc\"\n",
    "print(\"d\" in srl)\n",
    "print(\"d\" not in srl)"
   ]
  },
  {
   "cell_type": "markdown",
   "metadata": {},
   "source": [
    "# Conditional statements\n",
    "## *1.if*\n",
    "## *2.elif* \n",
    "    if u have more than 2 conditions then use elif\n",
    "## *3.else*"
   ]
  },
  {
   "cell_type": "code",
   "execution_count": 33,
   "metadata": {},
   "outputs": [
    {
     "name": "stdout",
     "output_type": "stream",
     "text": [
      "enter the number :56\n",
      "even\n"
     ]
    }
   ],
   "source": [
    "#to check even or odd\n",
    "n=int(input(\"enter the number :\"))\n",
    "if n%2==0:\n",
    "    print(\"even\")\n",
    "else:\n",
    "    print(\"odd\")"
   ]
  },
  {
   "cell_type": "code",
   "execution_count": 41,
   "metadata": {},
   "outputs": [
    {
     "name": "stdout",
     "output_type": "stream",
     "text": [
      "enter the number :225\n",
      "yes\n"
     ]
    }
   ],
   "source": [
    "#to check whether the given number is perfectly divisible by 3 and 5\n",
    "n=int(input(\"enter the number :\"))\n",
    "if n%3==0 and n%5==0:\n",
    "    print(\"yes\")\n",
    "else:\n",
    "    print(\"no\")\n"
   ]
  },
  {
   "cell_type": "code",
   "execution_count": 46,
   "metadata": {},
   "outputs": [
    {
     "name": "stdout",
     "output_type": "stream",
     "text": [
      "enter the number : -75\n",
      "negative no.\n"
     ]
    }
   ],
   "source": [
    "#test if given no.is positive nrgative or zero\n",
    "n=int(input(\"enter the number : \"))\n",
    "if n>0:\n",
    "    print(\"positive no.\")\n",
    "elif n<0:\n",
    "    print(\"negative no.\")\n",
    "else:\n",
    "    print(\"zero\")"
   ]
  },
  {
   "cell_type": "code",
   "execution_count": 49,
   "metadata": {},
   "outputs": [
    {
     "name": "stdout",
     "output_type": "stream",
     "text": [
      "enter the number :2020\n",
      "leap yeaar\n"
     ]
    }
   ],
   "source": [
    "#check the input year is keap year otr not\n",
    "year=int(input(\"enter the number :\"))\n",
    "if year%4==0:\n",
    "    print(\"leap yeaar\")\n",
    "else:\n",
    "    print(\"not a leap year\")"
   ]
  },
  {
   "cell_type": "code",
   "execution_count": 50,
   "metadata": {},
   "outputs": [
    {
     "name": "stdout",
     "output_type": "stream",
     "text": [
      "enter the number :52\n",
      "person is eligible for vote\n"
     ]
    }
   ],
   "source": [
    "#check the person is eligible for vote or not\n",
    "age=int(input(\"enter the number :\"))\n",
    "if age>=18:\n",
    "    print(\"person is eligible for vote\")\n",
    "else:\n",
    "    print(\"not eligible for vote\")"
   ]
  },
  {
   "cell_type": "code",
   "execution_count": null,
   "metadata": {},
   "outputs": [],
   "source": []
  }
 ],
 "metadata": {
  "kernelspec": {
   "display_name": "Python 3",
   "language": "python",
   "name": "python3"
  },
  "language_info": {
   "codemirror_mode": {
    "name": "ipython",
    "version": 3
   },
   "file_extension": ".py",
   "mimetype": "text/x-python",
   "name": "python",
   "nbconvert_exporter": "python",
   "pygments_lexer": "ipython3",
   "version": "3.7.3"
  }
 },
 "nbformat": 4,
 "nbformat_minor": 2
}
