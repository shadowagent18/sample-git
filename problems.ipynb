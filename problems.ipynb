{
 "cells": [
  {
   "cell_type": "code",
   "execution_count": 20,
   "metadata": {},
   "outputs": [
    {
     "name": "stdout",
     "output_type": "stream",
     "text": [
      "ENter a String : mandalorian\n",
      "no.of unique characters: 6\n"
     ]
    }
   ],
   "source": [
    "a=input(\"ENter a String : \")\n",
    "un=len(a)\n",
    "for i in a:\n",
    "    ele=i\n",
    "    c=0\n",
    "    for j in a:\n",
    "        if ele==j:\n",
    "             c=c+1\n",
    "    if(c!=1):\n",
    "        un=un-1\n",
    "print (\"no.of unique characters:\",un)"
   ]
  },
  {
   "cell_type": "code",
   "execution_count": 1,
   "metadata": {},
   "outputs": [
    {
     "name": "stdout",
     "output_type": "stream",
     "text": [
      "enter a paragraph : In a village there lived a old man.He used be good to everyone.he died at a very old age\n",
      "no.of words in the given paragraph 21\n"
     ]
    }
   ],
   "source": [
    "v=input(\"enter a paragraph : \")\n",
    "count=1\n",
    "for i in v:\n",
    "    if i== \" \" or i==\",\" or i==\".\":\n",
    "        count=count+1\n",
    "print(\"no.of words in the given paragraph : \",count)        \n",
    "        "
   ]
  },
  {
   "cell_type": "code",
   "execution_count": 15,
   "metadata": {},
   "outputs": [],
   "source": [
    "def isPrime(p):\n",
    "    count=0\n",
    "    for i in range(p):\n",
    "        if p%(i+1)==0:\n",
    "            count=count+1\n",
    "    return count            "
   ]
  },
  {
   "cell_type": "code",
   "execution_count": 17,
   "metadata": {},
   "outputs": [
    {
     "name": "stdout",
     "output_type": "stream",
     "text": [
      "enter a value : 7\n",
      "True\n"
     ]
    }
   ],
   "source": [
    "k=int(input(\"enter a value : \"))\n",
    "c=isPrime(k)\n",
    "if c==2:\n",
    "    print (True)\n",
    "else:\n",
    "    print(False)"
   ]
  },
  {
   "cell_type": "code",
   "execution_count": null,
   "metadata": {},
   "outputs": [],
   "source": []
  }
 ],
 "metadata": {
  "kernelspec": {
   "display_name": "Python 3",
   "language": "python",
   "name": "python3"
  },
  "language_info": {
   "codemirror_mode": {
    "name": "ipython",
    "version": 3
   },
   "file_extension": ".py",
   "mimetype": "text/x-python",
   "name": "python",
   "nbconvert_exporter": "python",
   "pygments_lexer": "ipython3",
   "version": "3.7.3"
  }
 },
 "nbformat": 4,
 "nbformat_minor": 2
}
